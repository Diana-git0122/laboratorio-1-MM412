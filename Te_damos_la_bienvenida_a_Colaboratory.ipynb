{
  "cells": [
    {
      "cell_type": "markdown",
      "metadata": {
        "id": "view-in-github",
        "colab_type": "text"
      },
      "source": [
        "<a href=\"https://colab.research.google.com/github/Diana-git0122/laboratorio-1-MM412/blob/main/Te_damos_la_bienvenida_a_Colaboratory.ipynb\" target=\"_parent\"><img src=\"https://colab.research.google.com/assets/colab-badge.svg\" alt=\"Open In Colab\"/></a>"
      ]
    },
    {
      "cell_type": "markdown",
      "source": [],
      "metadata": {
        "id": "NyAm1unQ_q8G"
      }
    },
    {
      "cell_type": "markdown",
      "source": [
        "Laboratorio 1\n",
        "**math**\n"
      ],
      "metadata": {
        "id": "Cu-d131y_si9"
      }
    },
    {
      "cell_type": "code",
      "source": [
        "import math #instruccion para llamar la biblioteca\n",
        "\n",
        "x= 16 #declaracion de variable\n",
        "# calcular la raiz cuadrada de x\n",
        "resultado= math.sqrt(x) #funcion raiz cuadrada\n",
        "print(\"la raiz cuadrada de 16 es:\", resultado)\n",
        "\n"
      ],
      "metadata": {
        "id": "qWalyEgPCZBP"
      },
      "execution_count": null,
      "outputs": []
    },
    {
      "cell_type": "markdown",
      "source": [
        "**numpy**"
      ],
      "metadata": {
        "id": "4Idek4lXCZov"
      }
    },
    {
      "cell_type": "code",
      "source": [
        "arr =no.array([1,2,3,4])\n",
        "# realizar una operacion sobre array\n",
        "squared = np.sqrt(arr)  #Raiz cuadrada de cada elemento\n",
        "print (\"las raices cuadradas de los elementos son:\",squared)\n"
      ],
      "metadata": {
        "id": "Hb9Q6DpRFtMb"
      },
      "execution_count": null,
      "outputs": []
    },
    {
      "cell_type": "markdown",
      "source": [
        "**matplotlib**"
      ],
      "metadata": {
        "id": "4QAt_EutGl3o"
      }
    },
    {
      "cell_type": "code",
      "source": [
        "import matplotlib.pyplot as plt\n",
        "\n",
        "x=np.linspace (-10, 10, 100) #generar 100 puntos de -10 a 10\n",
        "y= x**2 # funcion cuadratica\n",
        "plt.plot(x,y)\n",
        "plt.title(\"grafico de f(x) = x^2\")\n",
        "plt.xlabel(\"x\")\n",
        "plt.ylabel(\"f(x)\")\n"
      ],
      "metadata": {
        "id": "Z70Ye_L5GsLA"
      },
      "execution_count": null,
      "outputs": []
    },
    {
      "cell_type": "markdown",
      "source": [
        "**scipy**"
      ],
      "metadata": {
        "id": "YawqK5aDIy9h"
      }
    },
    {
      "cell_type": "code",
      "source": [],
      "metadata": {
        "id": "5G71zlmhHRB-"
      },
      "execution_count": null,
      "outputs": []
    }
  ],
  "metadata": {
    "colab": {
      "name": "Te damos la bienvenida a Colaboratory",
      "toc_visible": true,
      "provenance": [],
      "include_colab_link": true
    },
    "kernelspec": {
      "display_name": "Python 3",
      "name": "python3"
    }
  },
  "nbformat": 4,
  "nbformat_minor": 0
}